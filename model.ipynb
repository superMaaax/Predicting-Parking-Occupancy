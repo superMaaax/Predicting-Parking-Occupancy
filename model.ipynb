{
 "cells": [
  {
   "cell_type": "code",
   "execution_count": 77,
   "id": "3393b66a",
   "metadata": {},
   "outputs": [],
   "source": [
    "import pandas as pd\n",
    "import numpy as np\n",
    "import torch\n",
    "from torch import nn\n",
    "import torch.optim as optim\n",
    "import csv\n",
    "from time import time\n",
    "from tqdm import tqdm\n",
    "import matplotlib.pyplot as plt"
   ]
  },
  {
   "cell_type": "markdown",
   "id": "9afc5b28",
   "metadata": {},
   "source": [
    "# Hyperparameters and Constants"
   ]
  },
  {
   "cell_type": "code",
   "execution_count": 78,
   "id": "90a3e223",
   "metadata": {},
   "outputs": [],
   "source": [
    "LOOK_BACK = 10\n",
    "# Our input is composed of:\n",
    "#  - LOOK_BACK values from trend,\n",
    "#  - LOOK_BACK values from cycle, and\n",
    "#  - 1 effect value.\n",
    "HIDDEN_SIZE = 8\n",
    "OUTPUT_FEATURES_NUM = 1\n",
    "NUM_LAYERS = 1\n",
    "max_epochs = 2000\n",
    "LEARNING_RATE = 0.05\n",
    "circle = 5  # how many cycles to repeat training for evaluation\n",
    "WIN_SIZE  = 4            # window length inside the 10‑step segment\n",
    "WIN_STEP  = 1            # 75 % overlap          \n",
    "N_WINDOWS = (LOOK_BACK - WIN_SIZE) // WIN_STEP + 1  \n",
    "INPUT_FEATURES_NUM = N_WINDOWS * 8 + 1   # 32 stats + 1 effect  "
   ]
  },
  {
   "cell_type": "markdown",
   "id": "8a88df63",
   "metadata": {},
   "source": [
    "# 1. Data Import and Extraction Functions"
   ]
  },
  {
   "cell_type": "code",
   "execution_count": 79,
   "id": "8c5f985a",
   "metadata": {},
   "outputs": [],
   "source": [
    "def import_TSD_data(filename='dataset.csv'):\n",
    "    \"\"\"\n",
    "    Loads data from CSV and extracts three 1D arrays:\n",
    "      - trend: from 'rate'\n",
    "      - cycle: from 'cycle'\n",
    "      - effect: chosen as 'Precipitation'\n",
    "    Returns these arrays along with the train/test split sizes.\n",
    "    \"\"\"\n",
    "    dataset = pd.read_csv(filename)\n",
    "    trend = dataset['rate'].values.astype('float32')\n",
    "    cycle = dataset['cycle'].values.astype('float32')\n",
    "    effect = dataset['indicator_norm'].values.astype('float32')\n",
    "    train_size = int(0.6 * len(trend))\n",
    "    test_size = len(trend) - train_size\n",
    "    return trend, cycle, effect, train_size, test_size\n",
    "\n",
    "\n",
    "def build_stats_features(trend, cycle, effect,\n",
    "                         look_back=LOOK_BACK,\n",
    "                         win_size=WIN_SIZE,\n",
    "                         win_step=WIN_STEP,\n",
    "                         target_offset=None):\n",
    "    \"\"\"\n",
    "    Creates feature / target arrays.\n",
    "\n",
    "    For every start index i:\n",
    "      • take trend[i : i+look_back]  &  cycle[...]\n",
    "      • carve into overlapping windows of length win_size, stride win_step\n",
    "      • compute [min,max,mean,std] of rate & cycle  → 8 feats / window\n",
    "      • flatten   (N_WINDOWS × 8)  and append effect[i + target_offset]\n",
    "      • target is trend[i + target_offset]\n",
    "\n",
    "    Returns\n",
    "    -------\n",
    "    X : (n_samples, N_WINDOWS*8 + 1)\n",
    "    y : (n_samples,)\n",
    "    \"\"\"\n",
    "    if target_offset is None:\n",
    "        target_offset = 2 * look_back      \n",
    "\n",
    "    n_samples = len(trend) - (look_back + target_offset)\n",
    "    X, y = [], []\n",
    "    for i in range(n_samples):\n",
    "        r_seg = trend [i : i + look_back]\n",
    "        c_seg = cycle [i : i + look_back]\n",
    "        win_feats = []\n",
    "        for w in range(0, look_back - win_size + 1, win_step):\n",
    "            r_win = r_seg[w : w + win_size]\n",
    "            c_win = c_seg[w : w + win_size]\n",
    "            win_feats.extend([\n",
    "                r_win.min(), r_win.max(), r_win.mean(), r_win.std(ddof=0),\n",
    "                c_win.min(), c_win.max(), c_win.mean(), c_win.std(ddof=0)\n",
    "            ])\n",
    "        # append scalar effect of the *day you predict*\n",
    "        eff_val = effect[i + target_offset]\n",
    "        win_feats.append(eff_val)\n",
    "        X.append(win_feats)\n",
    "        y.append(trend[i + target_offset])\n",
    "\n",
    "    return np.asarray(X, dtype='float32'), np.asarray(y, dtype='float32')"
   ]
  },
  {
   "cell_type": "markdown",
   "id": "6a747431",
   "metadata": {},
   "source": [
    "# 2. GRU Model Definition"
   ]
  },
  {
   "cell_type": "code",
   "execution_count": 80,
   "id": "97cdbdf4",
   "metadata": {},
   "outputs": [],
   "source": [
    "class GRU_model(nn.Module):\n",
    "    def __init__(self, input_size, hidden_size, output_size, num_layers):\n",
    "        \"\"\"\n",
    "        Model expects an input with:\n",
    "         - first (input_size - 1) features: processed sequentially by GRU, and\n",
    "         - the last feature: the effect value (used outside of GRU).\n",
    "        \"\"\"\n",
    "        super(GRU_model, self).__init__()\n",
    "        self.gru = nn.GRU((input_size - 1), hidden_size, num_layers)\n",
    "        self.forwardProcessing = nn.Linear(hidden_size + 1, output_size)\n",
    "\n",
    "    def forward(self, x_input):\n",
    "        # x_input shape: (seq_length, batch, input_size)\n",
    "        # The first (INPUT_FEATURES_NUM-1) columns are processed by GRU.\n",
    "        x = x_input[:, :, 0:(INPUT_FEATURES_NUM - 1)]\n",
    "        # The effect feature is the last column. Reshape to (1, batch, 1)\n",
    "        e = x_input[:, :, (INPUT_FEATURES_NUM - 1)].reshape(1, x_input.shape[1], 1)\n",
    "        x, _ = self.gru(x)  # x shape: (seq_length, batch, hidden_size)\n",
    "        # Concatenate the GRU output with the effect feature.\n",
    "        x = torch.cat([x, e], dim=2)\n",
    "        s, b, h = x.shape\n",
    "        x = x.view(s * b, h)\n",
    "        x = self.forwardProcessing(x)\n",
    "        x = x.view(s, b, -1)\n",
    "        return x\n"
   ]
  },
  {
   "cell_type": "markdown",
   "id": "160e345a",
   "metadata": {},
   "source": [
    "# 3. Training and Evaluation Function"
   ]
  },
  {
   "cell_type": "code",
   "execution_count": 81,
   "id": "13965152",
   "metadata": {},
   "outputs": [],
   "source": [
    "def TSD_GRU(gru_model, trend, cycle, effect, train_size, look_back):\n",
    "    train_trend = trend[:train_size]\n",
    "    test_trend  = trend[train_size:]\n",
    "    train_cycle = cycle[:train_size]\n",
    "    test_cycle  = cycle[train_size:]\n",
    "    train_eff   = effect[:train_size]\n",
    "    test_eff    = effect[train_size:]\n",
    "\n",
    "    # ---------- build samples ------------------------------------------------\n",
    "    train_x, train_y = build_stats_features(train_trend, train_cycle, train_eff,\n",
    "                                            look_back=look_back)\n",
    "    test_x,  test_y  = build_stats_features(test_trend,  test_cycle,  test_eff,\n",
    "                                            look_back=look_back)\n",
    "\n",
    "    # ---------- tensor shapes stay identical to your original code ----------\n",
    "    bs_tr = train_x.shape[0]\n",
    "    bs_te = test_x.shape[0]\n",
    "    batch_size_train = train_x.shape[0]\n",
    "    train_x_tensor = torch.tensor(train_x).reshape(1, bs_tr, INPUT_FEATURES_NUM)\n",
    "    train_y_tensor = torch.tensor(train_y).reshape(1, bs_tr, OUTPUT_FEATURES_NUM)\n",
    "    batch_size_test = test_x.shape[0]\n",
    "    test_x_tensor  = torch.tensor(test_x ).reshape(1, bs_te, INPUT_FEATURES_NUM)\n",
    "    test_y_tensor  = torch.tensor(test_y ).reshape(1, bs_te, OUTPUT_FEATURES_NUM)\n",
    "    # Initialize arrays to store evaluation metrics across multiple training cycles.\n",
    "    MSE_list = np.zeros([circle])\n",
    "    RMSE_list = np.zeros([circle])\n",
    "    RAE_list = np.zeros([circle])\n",
    "    R2_list = np.zeros([circle])\n",
    "    \n",
    "    loss_function = nn.MSELoss()\n",
    "    optimizer = torch.optim.Adam(gru_model.parameters(), lr=LEARNING_RATE)\n",
    "    \n",
    "    final_y_hat = None\n",
    "    final_y_act = None\n",
    "    for i in range(circle):\n",
    "        print('Circle =', i)\n",
    "        # Reinitialize model parameters (for independent training cycles)\n",
    "        for name, parameter in gru_model.named_parameters():\n",
    "            if parameter.requires_grad:\n",
    "                parameter.data = torch.randn_like(parameter)\n",
    "        \n",
    "        # Training loop.\n",
    "        for epoch in tqdm(range(max_epochs), desc=\"Training Progress\"):\n",
    "            optimizer.zero_grad()\n",
    "            output = gru_model(train_x_tensor)\n",
    "            loss = loss_function(output, train_y_tensor)\n",
    "            loss.backward()\n",
    "            optimizer.step()\n",
    "            if (epoch + 1) % 100 == 0:\n",
    "                print(f\"Epoch [{epoch+1}/{max_epochs}], Loss: {loss.item():.5f}\")\n",
    "                \n",
    "        # --- Evaluation on Test Data ---\n",
    "        with torch.no_grad():\n",
    "            pre_y = gru_model(test_x_tensor)\n",
    "        y_hat = pre_y.reshape(batch_size_test).detach().numpy()\n",
    "        y_act = test_y_tensor.reshape(batch_size_test).detach().numpy()\n",
    "        # Save the predictions from the final cycle.\n",
    "        if i == circle - 1:\n",
    "            final_y_hat = y_hat.copy()\n",
    "            final_y_act = y_act.copy()\n",
    "        # Compute error metrics.\n",
    "        error = y_hat - y_act\n",
    "        squared_error = np.multiply(error, error)\n",
    "        \n",
    "        MSE_list[i] = np.mean(squared_error)\n",
    "        RMSE_list[i] = np.sqrt(MSE_list[i])\n",
    "        RAE_list[i] = np.sum(np.abs(y_hat - y_act)) / np.sum(np.abs(np.mean(y_act) - y_act))\n",
    "        RSS = np.sum(squared_error)\n",
    "        TSS = np.sum(np.square(y_act - np.mean(y_act)))\n",
    "        R2_list[i] = 1 - RSS / TSS\n",
    "        \n",
    "    avg_MSE = np.mean(MSE_list)\n",
    "    avg_RMSE = np.mean(RMSE_list)\n",
    "    avg_RAE = np.mean(RAE_list)\n",
    "    avg_R2 = np.mean(R2_list)\n",
    "    \n",
    "    return avg_MSE, avg_RMSE, avg_RAE, avg_R2, final_y_act, final_y_hat"
   ]
  },
  {
   "cell_type": "markdown",
   "id": "e040f10e",
   "metadata": {},
   "source": [
    "# 4. Main Routine"
   ]
  },
  {
   "cell_type": "code",
   "execution_count": 82,
   "id": "d4cc449c",
   "metadata": {},
   "outputs": [
    {
     "name": "stdout",
     "output_type": "stream",
     "text": [
      "Data loaded. Train size: 9000 Test size: 6000\n",
      "Circle = 0\n"
     ]
    },
    {
     "name": "stderr",
     "output_type": "stream",
     "text": [
      "Training Progress:   8%|▊         | 160/2000 [00:00<00:04, 386.13it/s]"
     ]
    },
    {
     "name": "stdout",
     "output_type": "stream",
     "text": [
      "Epoch [100/2000], Loss: 0.00525\n"
     ]
    },
    {
     "name": "stderr",
     "output_type": "stream",
     "text": [
      "Training Progress:  12%|█▏        | 240/2000 [00:00<00:04, 389.75it/s]"
     ]
    },
    {
     "name": "stdout",
     "output_type": "stream",
     "text": [
      "Epoch [200/2000], Loss: 0.00446\n"
     ]
    },
    {
     "name": "stderr",
     "output_type": "stream",
     "text": [
      "Training Progress:  18%|█▊        | 356/2000 [00:00<00:04, 348.91it/s]"
     ]
    },
    {
     "name": "stdout",
     "output_type": "stream",
     "text": [
      "Epoch [300/2000], Loss: 0.00412\n"
     ]
    },
    {
     "name": "stderr",
     "output_type": "stream",
     "text": [
      "Training Progress:  21%|██▏       | 428/2000 [00:01<00:04, 335.91it/s]"
     ]
    },
    {
     "name": "stdout",
     "output_type": "stream",
     "text": [
      "Epoch [400/2000], Loss: 0.00385\n"
     ]
    },
    {
     "name": "stderr",
     "output_type": "stream",
     "text": [
      "Training Progress:  25%|██▍       | 493/2000 [00:01<00:05, 292.10it/s]"
     ]
    },
    {
     "name": "stdout",
     "output_type": "stream",
     "text": [
      "Epoch [500/2000], Loss: 0.00365\n"
     ]
    },
    {
     "name": "stderr",
     "output_type": "stream",
     "text": [
      "Training Progress:  32%|███▏      | 633/2000 [00:02<00:05, 251.20it/s]"
     ]
    },
    {
     "name": "stdout",
     "output_type": "stream",
     "text": [
      "Epoch [600/2000], Loss: 0.00351\n"
     ]
    },
    {
     "name": "stderr",
     "output_type": "stream",
     "text": [
      "Training Progress:  38%|███▊      | 752/2000 [00:02<00:04, 272.40it/s]"
     ]
    },
    {
     "name": "stdout",
     "output_type": "stream",
     "text": [
      "Epoch [700/2000], Loss: 0.00339\n"
     ]
    },
    {
     "name": "stderr",
     "output_type": "stream",
     "text": [
      "Training Progress:  42%|████▏     | 842/2000 [00:02<00:03, 290.23it/s]"
     ]
    },
    {
     "name": "stdout",
     "output_type": "stream",
     "text": [
      "Epoch [800/2000], Loss: 0.00326\n"
     ]
    },
    {
     "name": "stderr",
     "output_type": "stream",
     "text": [
      "Training Progress:  47%|████▋     | 936/2000 [00:03<00:03, 274.58it/s]"
     ]
    },
    {
     "name": "stdout",
     "output_type": "stream",
     "text": [
      "Epoch [900/2000], Loss: 0.00314\n"
     ]
    },
    {
     "name": "stderr",
     "output_type": "stream",
     "text": [
      "Training Progress:  53%|█████▎    | 1052/2000 [00:03<00:03, 261.84it/s]"
     ]
    },
    {
     "name": "stdout",
     "output_type": "stream",
     "text": [
      "Epoch [1000/2000], Loss: 0.00304\n"
     ]
    },
    {
     "name": "stderr",
     "output_type": "stream",
     "text": [
      "Training Progress:  57%|█████▋    | 1132/2000 [00:03<00:03, 253.33it/s]"
     ]
    },
    {
     "name": "stdout",
     "output_type": "stream",
     "text": [
      "Epoch [1100/2000], Loss: 0.00294\n"
     ]
    },
    {
     "name": "stderr",
     "output_type": "stream",
     "text": [
      "Training Progress:  63%|██████▎   | 1261/2000 [00:04<00:02, 314.50it/s]"
     ]
    },
    {
     "name": "stdout",
     "output_type": "stream",
     "text": [
      "Epoch [1200/2000], Loss: 0.00284\n"
     ]
    },
    {
     "name": "stderr",
     "output_type": "stream",
     "text": [
      "Training Progress:  68%|██████▊   | 1352/2000 [00:04<00:02, 277.38it/s]"
     ]
    },
    {
     "name": "stdout",
     "output_type": "stream",
     "text": [
      "Epoch [1300/2000], Loss: 0.00275\n"
     ]
    },
    {
     "name": "stderr",
     "output_type": "stream",
     "text": [
      "Training Progress:  72%|███████▏  | 1435/2000 [00:05<00:02, 255.83it/s]"
     ]
    },
    {
     "name": "stdout",
     "output_type": "stream",
     "text": [
      "Epoch [1400/2000], Loss: 0.00266\n"
     ]
    },
    {
     "name": "stderr",
     "output_type": "stream",
     "text": [
      "Training Progress:  78%|███████▊  | 1558/2000 [00:05<00:01, 289.14it/s]"
     ]
    },
    {
     "name": "stdout",
     "output_type": "stream",
     "text": [
      "Epoch [1500/2000], Loss: 0.00263\n"
     ]
    },
    {
     "name": "stderr",
     "output_type": "stream",
     "text": [
      "Training Progress:  82%|████████▏ | 1645/2000 [00:05<00:01, 263.17it/s]"
     ]
    },
    {
     "name": "stdout",
     "output_type": "stream",
     "text": [
      "Epoch [1600/2000], Loss: 0.00254\n"
     ]
    },
    {
     "name": "stderr",
     "output_type": "stream",
     "text": [
      "Training Progress:  88%|████████▊ | 1754/2000 [00:06<00:00, 267.44it/s]"
     ]
    },
    {
     "name": "stdout",
     "output_type": "stream",
     "text": [
      "Epoch [1700/2000], Loss: 0.00246\n"
     ]
    },
    {
     "name": "stderr",
     "output_type": "stream",
     "text": [
      "Training Progress:  92%|█████████▏| 1847/2000 [00:06<00:00, 295.90it/s]"
     ]
    },
    {
     "name": "stdout",
     "output_type": "stream",
     "text": [
      "Epoch [1800/2000], Loss: 0.00241\n"
     ]
    },
    {
     "name": "stderr",
     "output_type": "stream",
     "text": [
      "Training Progress:  97%|█████████▋| 1935/2000 [00:06<00:00, 280.16it/s]"
     ]
    },
    {
     "name": "stdout",
     "output_type": "stream",
     "text": [
      "Epoch [1900/2000], Loss: 0.00235\n"
     ]
    },
    {
     "name": "stderr",
     "output_type": "stream",
     "text": [
      "Training Progress: 100%|██████████| 2000/2000 [00:07<00:00, 279.10it/s]\n"
     ]
    },
    {
     "name": "stdout",
     "output_type": "stream",
     "text": [
      "Epoch [2000/2000], Loss: 0.00233\n",
      "Circle = 1\n"
     ]
    },
    {
     "name": "stderr",
     "output_type": "stream",
     "text": [
      "Training Progress:   7%|▋         | 135/2000 [00:00<00:07, 251.95it/s]"
     ]
    },
    {
     "name": "stdout",
     "output_type": "stream",
     "text": [
      "Epoch [100/2000], Loss: 0.01011\n"
     ]
    },
    {
     "name": "stderr",
     "output_type": "stream",
     "text": [
      "Training Progress:  13%|█▎        | 267/2000 [00:00<00:05, 321.49it/s]"
     ]
    },
    {
     "name": "stdout",
     "output_type": "stream",
     "text": [
      "Epoch [200/2000], Loss: 0.00485\n"
     ]
    },
    {
     "name": "stderr",
     "output_type": "stream",
     "text": [
      "Training Progress:  17%|█▋        | 343/2000 [00:01<00:04, 344.62it/s]"
     ]
    },
    {
     "name": "stdout",
     "output_type": "stream",
     "text": [
      "Epoch [300/2000], Loss: 0.00444\n"
     ]
    },
    {
     "name": "stderr",
     "output_type": "stream",
     "text": [
      "Training Progress:  22%|██▏       | 438/2000 [00:01<00:05, 263.24it/s]"
     ]
    },
    {
     "name": "stdout",
     "output_type": "stream",
     "text": [
      "Epoch [400/2000], Loss: 0.00416\n"
     ]
    },
    {
     "name": "stderr",
     "output_type": "stream",
     "text": [
      "Training Progress:  27%|██▋       | 548/2000 [00:01<00:05, 262.74it/s]"
     ]
    },
    {
     "name": "stdout",
     "output_type": "stream",
     "text": [
      "Epoch [500/2000], Loss: 0.00391\n"
     ]
    },
    {
     "name": "stderr",
     "output_type": "stream",
     "text": [
      "Training Progress:  32%|███▏      | 633/2000 [00:02<00:05, 268.72it/s]"
     ]
    },
    {
     "name": "stdout",
     "output_type": "stream",
     "text": [
      "Epoch [600/2000], Loss: 0.00370\n"
     ]
    },
    {
     "name": "stderr",
     "output_type": "stream",
     "text": [
      "Training Progress:  37%|███▋      | 742/2000 [00:02<00:04, 260.84it/s]"
     ]
    },
    {
     "name": "stdout",
     "output_type": "stream",
     "text": [
      "Epoch [700/2000], Loss: 0.00354\n"
     ]
    },
    {
     "name": "stderr",
     "output_type": "stream",
     "text": [
      "Training Progress:  42%|████▏     | 845/2000 [00:03<00:04, 238.92it/s]"
     ]
    },
    {
     "name": "stdout",
     "output_type": "stream",
     "text": [
      "Epoch [800/2000], Loss: 0.00342\n"
     ]
    },
    {
     "name": "stderr",
     "output_type": "stream",
     "text": [
      "Training Progress:  47%|████▋     | 942/2000 [00:03<00:04, 230.86it/s]"
     ]
    },
    {
     "name": "stdout",
     "output_type": "stream",
     "text": [
      "Epoch [900/2000], Loss: 0.00334\n"
     ]
    },
    {
     "name": "stderr",
     "output_type": "stream",
     "text": [
      "Training Progress:  52%|█████▏    | 1040/2000 [00:04<00:04, 233.43it/s]"
     ]
    },
    {
     "name": "stdout",
     "output_type": "stream",
     "text": [
      "Epoch [1000/2000], Loss: 0.00327\n"
     ]
    },
    {
     "name": "stderr",
     "output_type": "stream",
     "text": [
      "Training Progress:  57%|█████▋    | 1140/2000 [00:04<00:03, 237.03it/s]"
     ]
    },
    {
     "name": "stdout",
     "output_type": "stream",
     "text": [
      "Epoch [1100/2000], Loss: 0.00323\n"
     ]
    },
    {
     "name": "stderr",
     "output_type": "stream",
     "text": [
      "Training Progress:  63%|██████▎   | 1253/2000 [00:04<00:02, 266.56it/s]"
     ]
    },
    {
     "name": "stdout",
     "output_type": "stream",
     "text": [
      "Epoch [1200/2000], Loss: 0.00319\n"
     ]
    },
    {
     "name": "stderr",
     "output_type": "stream",
     "text": [
      "Training Progress:  69%|██████▊   | 1371/2000 [00:05<00:01, 347.76it/s]"
     ]
    },
    {
     "name": "stdout",
     "output_type": "stream",
     "text": [
      "Epoch [1300/2000], Loss: 0.00316\n"
     ]
    },
    {
     "name": "stderr",
     "output_type": "stream",
     "text": [
      "Training Progress:  72%|███████▏  | 1443/2000 [00:05<00:01, 319.50it/s]"
     ]
    },
    {
     "name": "stdout",
     "output_type": "stream",
     "text": [
      "Epoch [1400/2000], Loss: 0.00313\n"
     ]
    },
    {
     "name": "stderr",
     "output_type": "stream",
     "text": [
      "Training Progress:  77%|███████▋  | 1534/2000 [00:05<00:01, 265.31it/s]"
     ]
    },
    {
     "name": "stdout",
     "output_type": "stream",
     "text": [
      "Epoch [1500/2000], Loss: 0.00310\n"
     ]
    },
    {
     "name": "stderr",
     "output_type": "stream",
     "text": [
      "Training Progress:  81%|████████  | 1620/2000 [00:06<00:01, 268.15it/s]"
     ]
    },
    {
     "name": "stdout",
     "output_type": "stream",
     "text": [
      "Epoch [1600/2000], Loss: 0.00306\n"
     ]
    },
    {
     "name": "stderr",
     "output_type": "stream",
     "text": [
      "Training Progress:  87%|████████▋ | 1737/2000 [00:06<00:00, 268.50it/s]"
     ]
    },
    {
     "name": "stdout",
     "output_type": "stream",
     "text": [
      "Epoch [1700/2000], Loss: 0.00303\n"
     ]
    },
    {
     "name": "stderr",
     "output_type": "stream",
     "text": [
      "Training Progress:  92%|█████████▏| 1849/2000 [00:06<00:00, 331.87it/s]"
     ]
    },
    {
     "name": "stdout",
     "output_type": "stream",
     "text": [
      "Epoch [1800/2000], Loss: 0.00299\n"
     ]
    },
    {
     "name": "stderr",
     "output_type": "stream",
     "text": [
      "Training Progress:  98%|█████████▊| 1969/2000 [00:07<00:00, 373.21it/s]"
     ]
    },
    {
     "name": "stdout",
     "output_type": "stream",
     "text": [
      "Epoch [1900/2000], Loss: 0.00295\n"
     ]
    },
    {
     "name": "stderr",
     "output_type": "stream",
     "text": [
      "Training Progress: 100%|██████████| 2000/2000 [00:07<00:00, 271.85it/s]\n"
     ]
    },
    {
     "name": "stdout",
     "output_type": "stream",
     "text": [
      "Epoch [2000/2000], Loss: 0.00291\n",
      "Circle = 2\n"
     ]
    },
    {
     "name": "stderr",
     "output_type": "stream",
     "text": [
      "Training Progress:   6%|▋         | 129/2000 [00:00<00:07, 239.27it/s]"
     ]
    },
    {
     "name": "stdout",
     "output_type": "stream",
     "text": [
      "Epoch [100/2000], Loss: 0.00629\n"
     ]
    },
    {
     "name": "stderr",
     "output_type": "stream",
     "text": [
      "Training Progress:  12%|█▏        | 246/2000 [00:00<00:06, 252.09it/s]"
     ]
    },
    {
     "name": "stdout",
     "output_type": "stream",
     "text": [
      "Epoch [200/2000], Loss: 0.00575\n"
     ]
    },
    {
     "name": "stderr",
     "output_type": "stream",
     "text": [
      "Training Progress:  18%|█▊        | 350/2000 [00:01<00:06, 247.51it/s]"
     ]
    },
    {
     "name": "stdout",
     "output_type": "stream",
     "text": [
      "Epoch [300/2000], Loss: 0.00370\n"
     ]
    },
    {
     "name": "stderr",
     "output_type": "stream",
     "text": [
      "Training Progress:  23%|██▎       | 451/2000 [00:01<00:05, 309.54it/s]"
     ]
    },
    {
     "name": "stdout",
     "output_type": "stream",
     "text": [
      "Epoch [400/2000], Loss: 0.00351\n"
     ]
    },
    {
     "name": "stderr",
     "output_type": "stream",
     "text": [
      "Training Progress:  28%|██▊       | 559/2000 [00:02<00:04, 337.50it/s]"
     ]
    },
    {
     "name": "stdout",
     "output_type": "stream",
     "text": [
      "Epoch [500/2000], Loss: 0.00332\n"
     ]
    },
    {
     "name": "stderr",
     "output_type": "stream",
     "text": [
      "Training Progress:  31%|███       | 624/2000 [00:02<00:04, 284.74it/s]"
     ]
    },
    {
     "name": "stdout",
     "output_type": "stream",
     "text": [
      "Epoch [600/2000], Loss: 0.00316\n"
     ]
    },
    {
     "name": "stderr",
     "output_type": "stream",
     "text": [
      "Training Progress:  37%|███▋      | 737/2000 [00:02<00:04, 256.87it/s]"
     ]
    },
    {
     "name": "stdout",
     "output_type": "stream",
     "text": [
      "Epoch [700/2000], Loss: 0.00278\n"
     ]
    },
    {
     "name": "stderr",
     "output_type": "stream",
     "text": [
      "Training Progress:  42%|████▏     | 840/2000 [00:03<00:04, 242.39it/s]"
     ]
    },
    {
     "name": "stdout",
     "output_type": "stream",
     "text": [
      "Epoch [800/2000], Loss: 0.00251\n"
     ]
    },
    {
     "name": "stderr",
     "output_type": "stream",
     "text": [
      "Training Progress:  47%|████▋     | 943/2000 [00:03<00:04, 249.56it/s]"
     ]
    },
    {
     "name": "stdout",
     "output_type": "stream",
     "text": [
      "Epoch [900/2000], Loss: 0.00234\n"
     ]
    },
    {
     "name": "stderr",
     "output_type": "stream",
     "text": [
      "Training Progress:  52%|█████▏    | 1045/2000 [00:04<00:03, 243.64it/s]"
     ]
    },
    {
     "name": "stdout",
     "output_type": "stream",
     "text": [
      "Epoch [1000/2000], Loss: 0.00241\n"
     ]
    },
    {
     "name": "stderr",
     "output_type": "stream",
     "text": [
      "Training Progress:  57%|█████▋    | 1131/2000 [00:04<00:03, 230.87it/s]"
     ]
    },
    {
     "name": "stdout",
     "output_type": "stream",
     "text": [
      "Epoch [1100/2000], Loss: 0.00220\n"
     ]
    },
    {
     "name": "stderr",
     "output_type": "stream",
     "text": [
      "Training Progress:  62%|██████▏   | 1243/2000 [00:04<00:03, 251.73it/s]"
     ]
    },
    {
     "name": "stdout",
     "output_type": "stream",
     "text": [
      "Epoch [1200/2000], Loss: 0.00216\n"
     ]
    },
    {
     "name": "stderr",
     "output_type": "stream",
     "text": [
      "Training Progress:  67%|██████▋   | 1348/2000 [00:05<00:02, 249.87it/s]"
     ]
    },
    {
     "name": "stdout",
     "output_type": "stream",
     "text": [
      "Epoch [1300/2000], Loss: 0.00214\n"
     ]
    },
    {
     "name": "stderr",
     "output_type": "stream",
     "text": [
      "Training Progress:  72%|███████▏  | 1439/2000 [00:05<00:02, 277.87it/s]"
     ]
    },
    {
     "name": "stdout",
     "output_type": "stream",
     "text": [
      "Epoch [1400/2000], Loss: 0.00211\n"
     ]
    },
    {
     "name": "stderr",
     "output_type": "stream",
     "text": [
      "Training Progress:  78%|███████▊  | 1555/2000 [00:05<00:01, 350.52it/s]"
     ]
    },
    {
     "name": "stdout",
     "output_type": "stream",
     "text": [
      "Epoch [1500/2000], Loss: 0.00209\n"
     ]
    },
    {
     "name": "stderr",
     "output_type": "stream",
     "text": [
      "Training Progress:  83%|████████▎ | 1668/2000 [00:06<00:00, 361.97it/s]"
     ]
    },
    {
     "name": "stdout",
     "output_type": "stream",
     "text": [
      "Epoch [1600/2000], Loss: 0.00208\n"
     ]
    },
    {
     "name": "stderr",
     "output_type": "stream",
     "text": [
      "Training Progress:  87%|████████▋ | 1748/2000 [00:06<00:00, 379.64it/s]"
     ]
    },
    {
     "name": "stdout",
     "output_type": "stream",
     "text": [
      "Epoch [1700/2000], Loss: 0.00206\n"
     ]
    },
    {
     "name": "stderr",
     "output_type": "stream",
     "text": [
      "Training Progress:  93%|█████████▎| 1868/2000 [00:06<00:00, 371.01it/s]"
     ]
    },
    {
     "name": "stdout",
     "output_type": "stream",
     "text": [
      "Epoch [1800/2000], Loss: 0.00205\n"
     ]
    },
    {
     "name": "stderr",
     "output_type": "stream",
     "text": [
      "Training Progress:  97%|█████████▋| 1947/2000 [00:06<00:00, 380.69it/s]"
     ]
    },
    {
     "name": "stdout",
     "output_type": "stream",
     "text": [
      "Epoch [1900/2000], Loss: 0.00203\n"
     ]
    },
    {
     "name": "stderr",
     "output_type": "stream",
     "text": [
      "Training Progress: 100%|██████████| 2000/2000 [00:07<00:00, 283.01it/s]\n"
     ]
    },
    {
     "name": "stdout",
     "output_type": "stream",
     "text": [
      "Epoch [2000/2000], Loss: 0.00203\n",
      "Circle = 3\n"
     ]
    },
    {
     "name": "stderr",
     "output_type": "stream",
     "text": [
      "Training Progress:   8%|▊         | 150/2000 [00:00<00:05, 335.28it/s]"
     ]
    },
    {
     "name": "stdout",
     "output_type": "stream",
     "text": [
      "Epoch [100/2000], Loss: 0.00560\n"
     ]
    },
    {
     "name": "stderr",
     "output_type": "stream",
     "text": [
      "Training Progress:  13%|█▎        | 259/2000 [00:00<00:04, 354.47it/s]"
     ]
    },
    {
     "name": "stdout",
     "output_type": "stream",
     "text": [
      "Epoch [200/2000], Loss: 0.00437\n"
     ]
    },
    {
     "name": "stderr",
     "output_type": "stream",
     "text": [
      "Training Progress:  19%|█▊        | 373/2000 [00:01<00:04, 370.91it/s]"
     ]
    },
    {
     "name": "stdout",
     "output_type": "stream",
     "text": [
      "Epoch [300/2000], Loss: 0.00398\n"
     ]
    },
    {
     "name": "stderr",
     "output_type": "stream",
     "text": [
      "Training Progress:  21%|██        | 411/2000 [00:01<00:04, 326.48it/s]"
     ]
    },
    {
     "name": "stdout",
     "output_type": "stream",
     "text": [
      "Epoch [400/2000], Loss: 0.00380\n"
     ]
    },
    {
     "name": "stderr",
     "output_type": "stream",
     "text": [
      "Training Progress:  27%|██▋       | 547/2000 [00:01<00:05, 279.45it/s]"
     ]
    },
    {
     "name": "stdout",
     "output_type": "stream",
     "text": [
      "Epoch [500/2000], Loss: 0.00368\n"
     ]
    },
    {
     "name": "stderr",
     "output_type": "stream",
     "text": [
      "Training Progress:  32%|███▏      | 648/2000 [00:02<00:04, 309.64it/s]"
     ]
    },
    {
     "name": "stdout",
     "output_type": "stream",
     "text": [
      "Epoch [600/2000], Loss: 0.00358\n"
     ]
    },
    {
     "name": "stderr",
     "output_type": "stream",
     "text": [
      "Training Progress:  38%|███▊      | 752/2000 [00:02<00:03, 320.87it/s]"
     ]
    },
    {
     "name": "stdout",
     "output_type": "stream",
     "text": [
      "Epoch [700/2000], Loss: 0.00351\n"
     ]
    },
    {
     "name": "stderr",
     "output_type": "stream",
     "text": [
      "Training Progress:  43%|████▎     | 858/2000 [00:02<00:03, 343.04it/s]"
     ]
    },
    {
     "name": "stdout",
     "output_type": "stream",
     "text": [
      "Epoch [800/2000], Loss: 0.00345\n"
     ]
    },
    {
     "name": "stderr",
     "output_type": "stream",
     "text": [
      "Training Progress:  46%|████▋     | 927/2000 [00:02<00:03, 311.34it/s]"
     ]
    },
    {
     "name": "stdout",
     "output_type": "stream",
     "text": [
      "Epoch [900/2000], Loss: 0.00341\n"
     ]
    },
    {
     "name": "stderr",
     "output_type": "stream",
     "text": [
      "Training Progress:  53%|█████▎    | 1059/2000 [00:03<00:02, 317.69it/s]"
     ]
    },
    {
     "name": "stdout",
     "output_type": "stream",
     "text": [
      "Epoch [1000/2000], Loss: 0.00337\n"
     ]
    },
    {
     "name": "stderr",
     "output_type": "stream",
     "text": [
      "Training Progress:  58%|█████▊    | 1162/2000 [00:03<00:02, 305.31it/s]"
     ]
    },
    {
     "name": "stdout",
     "output_type": "stream",
     "text": [
      "Epoch [1100/2000], Loss: 0.00333\n"
     ]
    },
    {
     "name": "stderr",
     "output_type": "stream",
     "text": [
      "Training Progress:  63%|██████▎   | 1265/2000 [00:04<00:02, 325.81it/s]"
     ]
    },
    {
     "name": "stdout",
     "output_type": "stream",
     "text": [
      "Epoch [1200/2000], Loss: 0.00330\n"
     ]
    },
    {
     "name": "stderr",
     "output_type": "stream",
     "text": [
      "Training Progress:  66%|██████▋   | 1330/2000 [00:04<00:02, 279.83it/s]"
     ]
    },
    {
     "name": "stdout",
     "output_type": "stream",
     "text": [
      "Epoch [1300/2000], Loss: 0.00328\n"
     ]
    },
    {
     "name": "stderr",
     "output_type": "stream",
     "text": [
      "Training Progress:  72%|███████▏  | 1443/2000 [00:04<00:02, 273.41it/s]"
     ]
    },
    {
     "name": "stdout",
     "output_type": "stream",
     "text": [
      "Epoch [1400/2000], Loss: 0.00325\n"
     ]
    },
    {
     "name": "stderr",
     "output_type": "stream",
     "text": [
      "Training Progress:  77%|███████▋  | 1543/2000 [00:05<00:01, 296.72it/s]"
     ]
    },
    {
     "name": "stdout",
     "output_type": "stream",
     "text": [
      "Epoch [1500/2000], Loss: 0.00323\n"
     ]
    },
    {
     "name": "stderr",
     "output_type": "stream",
     "text": [
      "Training Progress:  82%|████████▏ | 1630/2000 [00:05<00:01, 257.63it/s]"
     ]
    },
    {
     "name": "stdout",
     "output_type": "stream",
     "text": [
      "Epoch [1600/2000], Loss: 0.00320\n"
     ]
    },
    {
     "name": "stderr",
     "output_type": "stream",
     "text": [
      "Training Progress:  88%|████████▊ | 1751/2000 [00:05<00:00, 276.19it/s]"
     ]
    },
    {
     "name": "stdout",
     "output_type": "stream",
     "text": [
      "Epoch [1700/2000], Loss: 0.00317\n"
     ]
    },
    {
     "name": "stderr",
     "output_type": "stream",
     "text": [
      "Training Progress:  92%|█████████▏| 1839/2000 [00:06<00:00, 267.05it/s]"
     ]
    },
    {
     "name": "stdout",
     "output_type": "stream",
     "text": [
      "Epoch [1800/2000], Loss: 0.00314\n"
     ]
    },
    {
     "name": "stderr",
     "output_type": "stream",
     "text": [
      "Training Progress:  97%|█████████▋| 1948/2000 [00:06<00:00, 245.86it/s]"
     ]
    },
    {
     "name": "stdout",
     "output_type": "stream",
     "text": [
      "Epoch [1900/2000], Loss: 0.00310\n"
     ]
    },
    {
     "name": "stderr",
     "output_type": "stream",
     "text": [
      "Training Progress: 100%|██████████| 2000/2000 [00:06<00:00, 287.48it/s]\n"
     ]
    },
    {
     "name": "stdout",
     "output_type": "stream",
     "text": [
      "Epoch [2000/2000], Loss: 0.00307\n",
      "Circle = 4\n"
     ]
    },
    {
     "name": "stderr",
     "output_type": "stream",
     "text": [
      "Training Progress:   7%|▋         | 140/2000 [00:00<00:06, 306.00it/s]"
     ]
    },
    {
     "name": "stdout",
     "output_type": "stream",
     "text": [
      "Epoch [100/2000], Loss: 0.01947\n"
     ]
    },
    {
     "name": "stderr",
     "output_type": "stream",
     "text": [
      "Training Progress:  12%|█▎        | 250/2000 [00:00<00:05, 340.78it/s]"
     ]
    },
    {
     "name": "stdout",
     "output_type": "stream",
     "text": [
      "Epoch [200/2000], Loss: 0.01755\n"
     ]
    },
    {
     "name": "stderr",
     "output_type": "stream",
     "text": [
      "Training Progress:  18%|█▊        | 357/2000 [00:01<00:05, 326.66it/s]"
     ]
    },
    {
     "name": "stdout",
     "output_type": "stream",
     "text": [
      "Epoch [300/2000], Loss: 0.00590\n"
     ]
    },
    {
     "name": "stderr",
     "output_type": "stream",
     "text": [
      "Training Progress:  23%|██▎       | 460/2000 [00:01<00:04, 316.25it/s]"
     ]
    },
    {
     "name": "stdout",
     "output_type": "stream",
     "text": [
      "Epoch [400/2000], Loss: 0.00400\n"
     ]
    },
    {
     "name": "stderr",
     "output_type": "stream",
     "text": [
      "Training Progress:  28%|██▊       | 562/2000 [00:01<00:04, 313.84it/s]"
     ]
    },
    {
     "name": "stdout",
     "output_type": "stream",
     "text": [
      "Epoch [500/2000], Loss: 0.00362\n"
     ]
    },
    {
     "name": "stderr",
     "output_type": "stream",
     "text": [
      "Training Progress:  33%|███▎      | 666/2000 [00:02<00:04, 331.67it/s]"
     ]
    },
    {
     "name": "stdout",
     "output_type": "stream",
     "text": [
      "Epoch [600/2000], Loss: 0.00352\n"
     ]
    },
    {
     "name": "stderr",
     "output_type": "stream",
     "text": [
      "Training Progress:  37%|███▋      | 737/2000 [00:02<00:04, 306.74it/s]"
     ]
    },
    {
     "name": "stdout",
     "output_type": "stream",
     "text": [
      "Epoch [700/2000], Loss: 0.00347\n"
     ]
    },
    {
     "name": "stderr",
     "output_type": "stream",
     "text": [
      "Training Progress:  42%|████▏     | 831/2000 [00:02<00:03, 299.11it/s]"
     ]
    },
    {
     "name": "stdout",
     "output_type": "stream",
     "text": [
      "Epoch [800/2000], Loss: 0.00345\n"
     ]
    },
    {
     "name": "stderr",
     "output_type": "stream",
     "text": [
      "Training Progress:  46%|████▋     | 929/2000 [00:03<00:04, 262.95it/s]"
     ]
    },
    {
     "name": "stdout",
     "output_type": "stream",
     "text": [
      "Epoch [900/2000], Loss: 0.00342\n"
     ]
    },
    {
     "name": "stderr",
     "output_type": "stream",
     "text": [
      "Training Progress:  52%|█████▏    | 1039/2000 [00:03<00:03, 254.30it/s]"
     ]
    },
    {
     "name": "stdout",
     "output_type": "stream",
     "text": [
      "Epoch [1000/2000], Loss: 0.00340\n"
     ]
    },
    {
     "name": "stderr",
     "output_type": "stream",
     "text": [
      "Training Progress:  57%|█████▊    | 1150/2000 [00:03<00:03, 251.38it/s]"
     ]
    },
    {
     "name": "stdout",
     "output_type": "stream",
     "text": [
      "Epoch [1100/2000], Loss: 0.00339\n"
     ]
    },
    {
     "name": "stderr",
     "output_type": "stream",
     "text": [
      "Training Progress:  62%|██████▏   | 1244/2000 [00:04<00:02, 284.35it/s]"
     ]
    },
    {
     "name": "stdout",
     "output_type": "stream",
     "text": [
      "Epoch [1200/2000], Loss: 0.00337\n"
     ]
    },
    {
     "name": "stderr",
     "output_type": "stream",
     "text": [
      "Training Progress:  67%|██████▋   | 1342/2000 [00:04<00:02, 300.50it/s]"
     ]
    },
    {
     "name": "stdout",
     "output_type": "stream",
     "text": [
      "Epoch [1300/2000], Loss: 0.00336\n"
     ]
    },
    {
     "name": "stderr",
     "output_type": "stream",
     "text": [
      "Training Progress:  73%|███████▎  | 1451/2000 [00:04<00:01, 326.99it/s]"
     ]
    },
    {
     "name": "stdout",
     "output_type": "stream",
     "text": [
      "Epoch [1400/2000], Loss: 0.00334\n"
     ]
    },
    {
     "name": "stderr",
     "output_type": "stream",
     "text": [
      "Training Progress:  78%|███████▊  | 1558/2000 [00:05<00:01, 325.20it/s]"
     ]
    },
    {
     "name": "stdout",
     "output_type": "stream",
     "text": [
      "Epoch [1500/2000], Loss: 0.00333\n"
     ]
    },
    {
     "name": "stderr",
     "output_type": "stream",
     "text": [
      "Training Progress:  83%|████████▎ | 1653/2000 [00:05<00:01, 291.24it/s]"
     ]
    },
    {
     "name": "stdout",
     "output_type": "stream",
     "text": [
      "Epoch [1600/2000], Loss: 0.00332\n"
     ]
    },
    {
     "name": "stderr",
     "output_type": "stream",
     "text": [
      "Training Progress:  87%|████████▋ | 1744/2000 [00:05<00:00, 264.11it/s]"
     ]
    },
    {
     "name": "stdout",
     "output_type": "stream",
     "text": [
      "Epoch [1700/2000], Loss: 0.00330\n"
     ]
    },
    {
     "name": "stderr",
     "output_type": "stream",
     "text": [
      "Training Progress:  91%|█████████▏| 1828/2000 [00:06<00:00, 268.76it/s]"
     ]
    },
    {
     "name": "stdout",
     "output_type": "stream",
     "text": [
      "Epoch [1800/2000], Loss: 0.00329\n"
     ]
    },
    {
     "name": "stderr",
     "output_type": "stream",
     "text": [
      "Training Progress:  98%|█████████▊| 1969/2000 [00:06<00:00, 324.31it/s]"
     ]
    },
    {
     "name": "stdout",
     "output_type": "stream",
     "text": [
      "Epoch [1900/2000], Loss: 0.00328\n"
     ]
    },
    {
     "name": "stderr",
     "output_type": "stream",
     "text": [
      "Training Progress: 100%|██████████| 2000/2000 [00:06<00:00, 293.64it/s]"
     ]
    },
    {
     "name": "stdout",
     "output_type": "stream",
     "text": [
      "Epoch [2000/2000], Loss: 0.00327\n",
      "\n",
      "Final Evaluation Metrics:\n",
      "MSE: 0.00502\n",
      "RMSE: 0.07080\n",
      "RAE: 0.20867\n",
      "R2: 0.94028\n",
      "Total run time: 38.55 seconds\n"
     ]
    },
    {
     "name": "stderr",
     "output_type": "stream",
     "text": [
      "\n"
     ]
    }
   ],
   "source": [
    "begin = time()\n",
    "# Load the data from CSV.\n",
    "trend, cycle, effect, train_size, test_size = import_TSD_data()\n",
    "print(\"Data loaded. Train size:\", train_size, \"Test size:\", test_size)\n",
    "\n",
    "# Initialize the GRU model.\n",
    "gru_model = GRU_model(input_size=INPUT_FEATURES_NUM, hidden_size=HIDDEN_SIZE, \n",
    "                        output_size=OUTPUT_FEATURES_NUM, num_layers=NUM_LAYERS)\n",
    "\n",
    "# Train and evaluate the model using the TSD_GRU formulation.\n",
    "avg_MSE, avg_RMSE, avg_RAE, avg_R2, final_y_act, final_y_hat = TSD_GRU(gru_model, trend, cycle, effect, train_size, LOOK_BACK)\n",
    "\n",
    "print(f\"\\nFinal Evaluation Metrics:\\nMSE: {avg_MSE:.5f}\\nRMSE: {avg_RMSE:.5f}\\nRAE: {avg_RAE:.5f}\\nR2: {avg_R2:.5f}\")\n",
    "\n",
    "output_list = [avg_MSE, avg_RMSE, avg_RAE, avg_R2]\n",
    "with open('output_metrics.csv', 'w', newline='') as f:\n",
    "    csv_writer = csv.writer(f)\n",
    "    csv_writer.writerow([\"MSE\", \"RMSE\", \"MAPE\", \"RAE\", \"R2\"])\n",
    "    csv_writer.writerow(output_list)\n",
    "    \n",
    "end = time()\n",
    "print(\"Total run time: {:.2f} seconds\".format(end - begin))\n"
   ]
  },
  {
   "cell_type": "markdown",
   "id": "b95149d6",
   "metadata": {},
   "source": [
    "# 5. Plot Actual vs. Predicted Values"
   ]
  },
  {
   "cell_type": "code",
   "execution_count": 83,
   "id": "bf9ce2c8",
   "metadata": {},
   "outputs": [
    {
     "data": {
      "image/png": "[encoded data removed]",
      "text/plain": [
       "<Figure size 1000x500 with 1 Axes>"
      ]
     },
     "metadata": {},
     "output_type": "display_data"
    }
   ],
   "source": [
    "plt.figure(figsize=(10,5))\n",
    "plt.plot(final_y_act, label=\"Actual Value\", linewidth=0.5)\n",
    "plt.plot(final_y_hat, label=\"Predicted Value\", linewidth=0.5)\n",
    "plt.xlabel(\"Test Sample Index\")\n",
    "plt.ylabel(\"Parking Occupancy\")\n",
    "plt.title(\"Actual vs Predicted Parking Occupancy\")\n",
    "plt.legend()\n",
    "plt.grid(True)\n",
    "# plt.show()\n",
    "plt.savefig(\"actual_vs_predicted.png\", dpi=300, bbox_inches='tight')"
   ]
  }
 ],
 "metadata": {
  "kernelspec": {
   "display_name": "Python 3",
   "language": "python",
   "name": "python3"
  },
  "language_info": {
   "codemirror_mode": {
    "name": "ipython",
    "version": 3
   },
   "file_extension": ".py",
   "mimetype": "text/x-python",
   "name": "python",
   "nbconvert_exporter": "python",
   "pygments_lexer": "ipython3",
   "version": "3.12.3"
  }
 },
 "nbformat": 4,
 "nbformat_minor": 5
}
